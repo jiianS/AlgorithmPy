{
  "nbformat": 4,
  "nbformat_minor": 0,
  "metadata": {
    "colab": {
      "provenance": [],
      "authorship_tag": "ABX9TyPZFfItUT0jeWS1chDHQ0QO",
      "include_colab_link": true
    },
    "kernelspec": {
      "name": "python3",
      "display_name": "Python 3"
    },
    "language_info": {
      "name": "python"
    }
  },
  "cells": [
    {
      "cell_type": "markdown",
      "metadata": {
        "id": "view-in-github",
        "colab_type": "text"
      },
      "source": [
        "<a href=\"https://colab.research.google.com/github/jiianS/AlgorithmPy/blob/main/colabTest.ipynb\" target=\"_parent\"><img src=\"https://colab.research.google.com/assets/colab-badge.svg\" alt=\"Open In Colab\"/></a>"
      ]
    },
    {
      "cell_type": "code",
      "execution_count": null,
      "metadata": {
        "id": "3U5K8qxfow43"
      },
      "outputs": [],
      "source": []
    },
    {
      "cell_type": "markdown",
      "source": [
        "자료형, 출력하기 변수"
      ],
      "metadata": {
        "id": "SEMJ7TZrpKVH"
      }
    },
    {
      "cell_type": "markdown",
      "source": [
        "01. 자료형"
      ],
      "metadata": {
        "id": "rmyFMfJjpalv"
      }
    },
    {
      "cell_type": "code",
      "source": [
        "#자료형\n",
        "23901239\n",
        "333393.44848\n",
        "\n",
        "204\n",
        "4.5\n",
        "\"안녕하세요\" #문자열 사용할떄 \"\" 쓰기\n",
        "\n"
      ],
      "metadata": {
        "colab": {
          "base_uri": "https://localhost:8080/",
          "height": 35
        },
        "id": "CDDt5RuBpdH1",
        "outputId": "dd0b67ff-b43c-42df-dec9-ef11f6cb30ae"
      },
      "execution_count": 1,
      "outputs": [
        {
          "output_type": "execute_result",
          "data": {
            "text/plain": [
              "'안녕하세요'"
            ],
            "application/vnd.google.colaboratory.intrinsic+json": {
              "type": "string"
            }
          },
          "metadata": {},
          "execution_count": 1
        }
      ]
    },
    {
      "cell_type": "markdown",
      "source": [
        "2. 출력하기"
      ],
      "metadata": {
        "id": "F8hHUxpdp5SU"
      }
    },
    {
      "cell_type": "code",
      "source": [
        "#print(자료)\n",
        "\n",
        "print(39019301)\n",
        "print(\"가기싫다.\")\n",
        "print(\"정말 가기 싫더.\",\"우리금융\",\"추어ㅜ\",5901390)"
      ],
      "metadata": {
        "colab": {
          "base_uri": "https://localhost:8080/"
        },
        "id": "9LJA6BzApc-o",
        "outputId": "51b5a7b8-db48-4381-eb69-fa1b9aeb9c4a"
      },
      "execution_count": 2,
      "outputs": [
        {
          "output_type": "stream",
          "name": "stdout",
          "text": [
            "39019301\n",
            "가기싫다.\n",
            "정말 가기 싫더. 우리금융 추어ㅜ 5901390\n"
          ]
        }
      ]
    }
  ]
}